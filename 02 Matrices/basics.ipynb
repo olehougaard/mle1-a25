{
 "cells": [
  {
   "cell_type": "markdown",
   "id": "73a7bf89",
   "metadata": {},
   "source": [
    "#### Python Basics\n",
    "This is python basics"
   ]
  },
  {
   "cell_type": "code",
   "execution_count": 4,
   "id": "29940c13",
   "metadata": {},
   "outputs": [
    {
     "name": "stdout",
     "output_type": "stream",
     "text": [
      "4\n",
      "30.0\n",
      "12.5\n",
      "32\n"
     ]
    }
   ],
   "source": [
    "print(2 + 2)\n",
    "\n",
    "print(6 * (1.5 + 3.5))\n",
    "print(6 * 1.5 + 3.5)\n",
    "\n",
    "print(2 ** 5)"
   ]
  },
  {
   "cell_type": "code",
   "execution_count": 6,
   "id": "f347969b",
   "metadata": {},
   "outputs": [
    {
     "name": "stdout",
     "output_type": "stream",
     "text": [
      "30.0\n",
      "48\n"
     ]
    }
   ],
   "source": [
    "addition = 1.5 + 3.5\n",
    "print(6 * addition)\n",
    "\n",
    "addition = 8\n",
    "print(6 * addition)\n"
   ]
  },
  {
   "cell_type": "code",
   "execution_count": 8,
   "id": "96801b20",
   "metadata": {},
   "outputs": [
    {
     "name": "stdout",
     "output_type": "stream",
     "text": [
      "6.0\n"
     ]
    }
   ],
   "source": [
    "biggest = max(2.5 + 3.5, 5)\n",
    "print(biggest)\n"
   ]
  },
  {
   "cell_type": "code",
   "execution_count": 9,
   "id": "4eb53e83",
   "metadata": {},
   "outputs": [
    {
     "name": "stdout",
     "output_type": "stream",
     "text": [
      "Did nothing\n"
     ]
    }
   ],
   "source": [
    "max(2.5 + 3.5, 5)\n",
    "print(\"Did nothing\")"
   ]
  },
  {
   "cell_type": "code",
   "execution_count": 10,
   "id": "f925ca5e",
   "metadata": {},
   "outputs": [
    {
     "data": {
      "text/plain": [
       "6.0"
      ]
     },
     "execution_count": 10,
     "metadata": {},
     "output_type": "execute_result"
    }
   ],
   "source": [
    "max(2.5 + 3.5, 5)"
   ]
  },
  {
   "cell_type": "code",
   "execution_count": null,
   "id": "fd6d4a10",
   "metadata": {},
   "outputs": [
    {
     "name": "stdout",
     "output_type": "stream",
     "text": [
      "3\n",
      "2\n",
      "2\n"
     ]
    }
   ],
   "source": [
    "import math\n",
    "\n",
    "print(math.ceil(2.3))\n",
    "print(math.floor(2.3))"
   ]
  },
  {
   "cell_type": "code",
   "execution_count": 16,
   "id": "8ca3276e",
   "metadata": {},
   "outputs": [
    {
     "name": "stdout",
     "output_type": "stream",
     "text": [
      "2.0\n"
     ]
    }
   ],
   "source": [
    "import numpy as np\n",
    "print(np.round(2.3))"
   ]
  },
  {
   "cell_type": "code",
   "execution_count": null,
   "id": "fa46c525",
   "metadata": {},
   "outputs": [],
   "source": [
    "matrix = np.array([\n",
    "  [2, 1],\n",
    "  [1, -.5]\n",
    "])\n",
    "\n"
   ]
  }
 ],
 "metadata": {
  "kernelspec": {
   "display_name": "Python 3",
   "language": "python",
   "name": "python3"
  },
  "language_info": {
   "codemirror_mode": {
    "name": "ipython",
    "version": 3
   },
   "file_extension": ".py",
   "mimetype": "text/x-python",
   "name": "python",
   "nbconvert_exporter": "python",
   "pygments_lexer": "ipython3",
   "version": "3.11.5"
  }
 },
 "nbformat": 4,
 "nbformat_minor": 5
}
