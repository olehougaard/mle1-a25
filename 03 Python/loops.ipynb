{
 "cells": [
  {
   "cell_type": "markdown",
   "id": "d84584af",
   "metadata": {},
   "source": [
    "# Loops\n",
    "\n",
    "Loops are a lot of different things, but we won't cover it all. For our purposes, loops are a way of going through all the elements of a list, _no matter how long the list is_.\n",
    "\n",
    "The statement `for x in numberlist:` repeats the indented code once for each element in numberlist. `x` takes on the value of the _current_ element in the list."
   ]
  },
  {
   "cell_type": "code",
   "execution_count": 1,
   "id": "5d8a40a5",
   "metadata": {},
   "outputs": [
    {
     "name": "stdout",
     "output_type": "stream",
     "text": [
      "1\n",
      "2\n",
      "4\n"
     ]
    }
   ],
   "source": [
    "numberlist = [1, 2, 4]\n",
    "\n",
    "for x in numberlist:\n",
    "  print(x)"
   ]
  },
  {
   "cell_type": "markdown",
   "id": "4d84e48b",
   "metadata": {},
   "source": [
    "This is not enough to solve our problem with summing all the elements of a list. In order to do that we need to combine two pieces of knowledge:\n",
    "1. A `for`-loop runs through all the elements of the list, no matter how long.\n",
    "2. We can change the value of a variable to a new one as we like.\n",
    "\n",
    "The technique we're using is called an _accumulator_. We create a variable that accumulates the data we need from the list in the way we need. In this case, we're using all the data in the list and we're accumulating by adding them.\n",
    "\n",
    "It looks like this:"
   ]
  },
  {
   "cell_type": "code",
   "execution_count": 2,
   "id": "c5b73b19",
   "metadata": {},
   "outputs": [
    {
     "name": "stdout",
     "output_type": "stream",
     "text": [
      "7\n"
     ]
    }
   ],
   "source": [
    "numberlist = [1, 2, 4]\n",
    "\n",
    "sum = 0\n",
    "for x in numberlist:\n",
    "  sum = sum + x\n",
    "\n",
    "print(sum)\n"
   ]
  },
  {
   "cell_type": "markdown",
   "id": "01caa144",
   "metadata": {},
   "source": [
    "The only way to really understand what a loop does, is to follow along with pen and paper. Here, I'll simulate it:\n",
    "\n",
    "Before the loop\n",
    ": sum is 0.\n",
    "\n",
    "First run through the loop\n",
    ": `x` is 1. `sum` + x is $0+1=1$. The new value of `sum` is 1.\n",
    "\n",
    "Second run through the loop\n",
    ": `x` is 2. `sum` + x is $1+2=3$. The new value of `sum` is 3.\n",
    "\n",
    "Third run through the loop\n",
    ": `x` is 4. `sum` + x is $3+4=7$. The new value of `sum` is 7.\n",
    "\n",
    "After the third run, the loop stops because there are no more elements. `sum` is $7$ which is $1+2+4$"
   ]
  },
  {
   "cell_type": "markdown",
   "id": "5f670467",
   "metadata": {},
   "source": [
    "Let's make the function from the list section:"
   ]
  },
  {
   "cell_type": "code",
   "execution_count": 4,
   "id": "dbbceee2",
   "metadata": {},
   "outputs": [
    {
     "name": "stdout",
     "output_type": "stream",
     "text": [
      "7\n",
      "0\n",
      "2047\n"
     ]
    }
   ],
   "source": [
    "def sum(list):\n",
    "  sum = 0\n",
    "  for x in list:\n",
    "    sum = sum + x\n",
    "  return sum\n",
    "\n",
    "print(sum(numberlist))\n",
    "print(sum([]))\n",
    "print(sum([1, 2, 4, 8, 16, 32, 64, 128, 256, 512, 1024]))"
   ]
  },
  {
   "cell_type": "code",
   "execution_count": null,
   "id": "b8db42d2",
   "metadata": {},
   "outputs": [
    {
     "name": "stdout",
     "output_type": "stream",
     "text": [
      "1\n",
      "1\n",
      "\n",
      "[ 0 ] 1\n",
      "[ 1 ] 1\n"
     ]
    }
   ],
   "source": [
    "list2D = [\n",
    "  [1, 2, 3, 4],\n",
    "  [1, 2, 4, 8]\n",
    "]\n",
    "\n",
    "for x in list2D:\n",
    "  print(x[0])\n",
    "\n",
    "print()\n",
    "\n",
    "for i, x in enumerate(list2D):\n",
    "  print(\"[\", i, \"]\", x[0])\n"
   ]
  },
  {
   "cell_type": "code",
   "execution_count": 13,
   "id": "eee3ab10",
   "metadata": {},
   "outputs": [
    {
     "data": {
      "text/plain": [
       "[2, 2]"
      ]
     },
     "execution_count": 13,
     "metadata": {},
     "output_type": "execute_result"
    }
   ],
   "source": [
    "column = []\n",
    "for x in list2D:\n",
    "  column.append(x[1])\n",
    "\n",
    "column"
   ]
  },
  {
   "cell_type": "code",
   "execution_count": 16,
   "id": "a0da08c7",
   "metadata": {},
   "outputs": [
    {
     "data": {
      "text/plain": [
       "[1, 4, 9, 16, 25, 36, 49, 64, 81, 100, 121, 144, 169, 196, 225, 256]"
      ]
     },
     "execution_count": 16,
     "metadata": {},
     "output_type": "execute_result"
    }
   ],
   "source": [
    "numberlist = [1, 2, 3, 4, 5, 6, 7, 8, 9, 10, 11, 12, 13, 14, 15, 16]\n",
    "\n",
    "squared = []\n",
    "\n",
    "for x in numberlist:\n",
    "  squared.append(x ** 2)\n",
    "\n",
    "squared\n"
   ]
  },
  {
   "cell_type": "code",
   "execution_count": 15,
   "id": "7587fef9",
   "metadata": {},
   "outputs": [
    {
     "data": {
      "text/plain": [
       "[2, 4, 6, 8, 10, 12, 14, 16]"
      ]
     },
     "execution_count": 15,
     "metadata": {},
     "output_type": "execute_result"
    }
   ],
   "source": [
    "\n",
    "even = []\n",
    "for x in numberlist:\n",
    "  if x % 2 == 0:\n",
    "    even.append(x)\n",
    "\n",
    "even"
   ]
  },
  {
   "cell_type": "code",
   "execution_count": 17,
   "id": "96500ce6",
   "metadata": {},
   "outputs": [
    {
     "data": {
      "text/plain": [
       "[4, 16, 36, 64, 100, 144, 196, 256]"
      ]
     },
     "execution_count": 17,
     "metadata": {},
     "output_type": "execute_result"
    }
   ],
   "source": [
    "evensquared = []\n",
    "for x in numberlist:\n",
    "  if x % 2 == 0:\n",
    "    evensquared.append(x**2)\n",
    "\n",
    "evensquared"
   ]
  }
 ],
 "metadata": {
  "kernelspec": {
   "display_name": "Python 3",
   "language": "python",
   "name": "python3"
  },
  "language_info": {
   "codemirror_mode": {
    "name": "ipython",
    "version": 3
   },
   "file_extension": ".py",
   "mimetype": "text/x-python",
   "name": "python",
   "nbconvert_exporter": "python",
   "pygments_lexer": "ipython3",
   "version": "3.11.5"
  }
 },
 "nbformat": 4,
 "nbformat_minor": 5
}
