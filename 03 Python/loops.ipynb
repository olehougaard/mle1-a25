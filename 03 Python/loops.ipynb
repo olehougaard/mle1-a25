{
 "cells": [
  {
   "cell_type": "markdown",
   "id": "d84584af",
   "metadata": {},
   "source": [
    "# Loops\n",
    "\n",
    "Loops are a lot of different things, but we won't cover it all. For our purposes, loops are a way of going through all the elements of a list, _no matter how long the list is_.\n",
    "\n",
    "The statement `for x in numberlist:` repeats the indented code once for each element in numberlist. `x` takes on the value of the _current_ element in the list."
   ]
  },
  {
   "cell_type": "code",
   "execution_count": null,
   "id": "5d8a40a5",
   "metadata": {},
   "outputs": [
    {
     "name": "stdout",
     "output_type": "stream",
     "text": [
      "1\n",
      "2\n",
      "4\n"
     ]
    }
   ],
   "source": [
    "numberlist = [1, 2, 4]\n",
    "\n",
    "for row in numberlist:\n",
    "  print(row)"
   ]
  },
  {
   "cell_type": "markdown",
   "id": "4d84e48b",
   "metadata": {},
   "source": [
    "This is not enough to solve our problem with summing all the elements of a list. In order to do that we need to combine two pieces of knowledge:\n",
    "1. A `for`-loop runs through all the elements of the list, no matter how long.\n",
    "2. We can change the value of a variable to a new one as we like.\n",
    "\n",
    "The technique we're using is called an _accumulator_. We create a variable that accumulates the data we need from the list in the way we need. In this case, we're using all the data in the list and we're accumulating by adding them.\n",
    "\n",
    "It looks like this:"
   ]
  },
  {
   "cell_type": "code",
   "execution_count": null,
   "id": "c5b73b19",
   "metadata": {},
   "outputs": [
    {
     "name": "stdout",
     "output_type": "stream",
     "text": [
      "7\n"
     ]
    }
   ],
   "source": [
    "numberlist = [1, 2, 4]\n",
    "\n",
    "sum = 0\n",
    "for row in numberlist:\n",
    "  sum = sum + row\n",
    "\n",
    "print(sum)\n"
   ]
  },
  {
   "cell_type": "markdown",
   "id": "01caa144",
   "metadata": {},
   "source": [
    "The only way to really understand what a loop does, is to follow along with pen and paper. Here, I'll simulate it:\n",
    "\n",
    "Before the loop\n",
    ": sum is 0.\n",
    "\n",
    "First run through the loop\n",
    ": `x` is 1. `sum` + x is $0+1=1$. The new value of `sum` is 1.\n",
    "\n",
    "Second run through the loop\n",
    ": `x` is 2. `sum` + x is $1+2=3$. The new value of `sum` is 3.\n",
    "\n",
    "Third run through the loop\n",
    ": `x` is 4. `sum` + x is $3+4=7$. The new value of `sum` is 7.\n",
    "\n",
    "After the third run, the loop stops because there are no more elements. `sum` is $7$ which is $1+2+4$"
   ]
  },
  {
   "cell_type": "markdown",
   "id": "5f670467",
   "metadata": {},
   "source": [
    "Let's make the function from the list section:"
   ]
  },
  {
   "cell_type": "code",
   "execution_count": 14,
   "id": "dbbceee2",
   "metadata": {},
   "outputs": [
    {
     "name": "stdout",
     "output_type": "stream",
     "text": [
      "7\n",
      "0\n",
      "2047\n"
     ]
    }
   ],
   "source": [
    "def sum(list):\n",
    "  sum = 0\n",
    "  for x in list:\n",
    "    sum = sum + x\n",
    "  return sum\n",
    "\n",
    "print(sum(numberlist))\n",
    "print(sum([]))\n",
    "print(sum([1, 2, 4, 8, 16, 32, 64, 128, 256, 512, 1024]))"
   ]
  },
  {
   "cell_type": "markdown",
   "id": "31a51306",
   "metadata": {},
   "source": [
    "Note that we don't need to use the index to access the elements, but if we need the index for some reason, we can do it like this:"
   ]
  },
  {
   "cell_type": "code",
   "execution_count": null,
   "id": "33fa4ae5",
   "metadata": {},
   "outputs": [
    {
     "name": "stdout",
     "output_type": "stream",
     "text": [
      "[0] 1\n",
      "[1] 2\n",
      "[2] 4\n"
     ]
    }
   ],
   "source": [
    "\n",
    "\n",
    "for index, row in enumerate(numberlist):\n",
    "  print(f\"[{index}]\", row)\n"
   ]
  },
  {
   "cell_type": "markdown",
   "id": "80fa27ff",
   "metadata": {},
   "source": [
    "Let's return to the 2D list (matrix) from the previous page. It's a list of rows (which are themselves lists), so it was easy to pick out a list. Not so easy to pick out a column.\n",
    "\n",
    "The for-loop goes through the rows. The first column is the first element of every row. Let's print that out."
   ]
  },
  {
   "cell_type": "code",
   "execution_count": null,
   "id": "b8db42d2",
   "metadata": {},
   "outputs": [
    {
     "name": "stdout",
     "output_type": "stream",
     "text": [
      "1\n",
      "1\n"
     ]
    }
   ],
   "source": [
    "list2D = [\n",
    "  [1, 2, 3, 4],\n",
    "  [1, 2, 4, 8]\n",
    "]\n",
    "\n",
    "for row in list2D:\n",
    "  print(row[0])\n",
    "\n"
   ]
  },
  {
   "cell_type": "markdown",
   "id": "5b0f8e11",
   "metadata": {},
   "source": [
    "So, those are the elements. Now we need to put them in a list. That means that we need the accumulator to be a list, and we need to accumulate data by adding them to the list. \n",
    "\n",
    "We do that below:"
   ]
  },
  {
   "cell_type": "code",
   "execution_count": 16,
   "id": "eee3ab10",
   "metadata": {},
   "outputs": [
    {
     "data": {
      "text/plain": [
       "[1, 1]"
      ]
     },
     "execution_count": 16,
     "metadata": {},
     "output_type": "execute_result"
    }
   ],
   "source": [
    "column = []\n",
    "for row in list2D:\n",
    "  column.append(row[0])\n",
    "\n",
    "column"
   ]
  },
  {
   "cell_type": "markdown",
   "id": "1e391a8b",
   "metadata": {},
   "source": [
    "Let's make a function, so we can get any column we like."
   ]
  },
  {
   "cell_type": "code",
   "execution_count": 17,
   "id": "b5f239da",
   "metadata": {},
   "outputs": [
    {
     "name": "stdout",
     "output_type": "stream",
     "text": [
      "[1, 1]\n",
      "[2, 2]\n",
      "[3, 4]\n",
      "[4, 8]\n"
     ]
    }
   ],
   "source": [
    "def matrix_column(matrix, column_index):\n",
    "  column = []\n",
    "  for row in matrix:\n",
    "    column.append(row[column_index])\n",
    "  return column\n",
    "\n",
    "print(matrix_column(list2D, 0))\n",
    "print(matrix_column(list2D, 1))\n",
    "print(matrix_column(list2D, 2))\n",
    "print(matrix_column(list2D, 3))"
   ]
  },
  {
   "cell_type": "markdown",
   "id": "8f39352e",
   "metadata": {},
   "source": [
    "The trick with using a list as an accumulator is very common. Let's look at some more examples.\n",
    "\n",
    "Taking a list and creating a new list with all the elements from the first list squared:"
   ]
  },
  {
   "cell_type": "code",
   "execution_count": null,
   "id": "a0da08c7",
   "metadata": {},
   "outputs": [
    {
     "data": {
      "text/plain": [
       "[1, 4, 9, 16, 25, 36, 49, 64, 81, 100, 121, 144, 169, 196, 225, 256]"
      ]
     },
     "execution_count": 8,
     "metadata": {},
     "output_type": "execute_result"
    }
   ],
   "source": [
    "numberlist = [1, 2, 3, 4, 5, 6, 7, 8, 9, 10, 11, 12, 13, 14, 15, 16]\n",
    "\n",
    "squared = []\n",
    "\n",
    "for row in numberlist:\n",
    "  squared.append(row ** 2)\n",
    "\n",
    "squared\n"
   ]
  },
  {
   "cell_type": "markdown",
   "id": "3428f92b",
   "metadata": {},
   "source": [
    "We don't have to append all the elements to the new list."
   ]
  },
  {
   "cell_type": "code",
   "execution_count": null,
   "id": "7587fef9",
   "metadata": {},
   "outputs": [
    {
     "data": {
      "text/plain": [
       "[2, 4, 6, 8, 10, 12, 14, 16]"
      ]
     },
     "execution_count": 9,
     "metadata": {},
     "output_type": "execute_result"
    }
   ],
   "source": [
    "\n",
    "even = []\n",
    "for row in numberlist:\n",
    "  if row % 2 == 0:\n",
    "    even.append(row)\n",
    "\n",
    "even"
   ]
  },
  {
   "cell_type": "markdown",
   "id": "9c031fa6",
   "metadata": {},
   "source": [
    "Combining the two:"
   ]
  },
  {
   "cell_type": "code",
   "execution_count": null,
   "id": "96500ce6",
   "metadata": {},
   "outputs": [
    {
     "data": {
      "text/plain": [
       "[4, 16, 36, 64, 100, 144, 196, 256]"
      ]
     },
     "execution_count": 10,
     "metadata": {},
     "output_type": "execute_result"
    }
   ],
   "source": [
    "evensquared = []\n",
    "for row in numberlist:\n",
    "  if row % 2 == 0:\n",
    "    evensquared.append(row**2)\n",
    "\n",
    "evensquared"
   ]
  },
  {
   "cell_type": "markdown",
   "id": "bca434a8",
   "metadata": {},
   "source": [
    "This way of coding is so common, all languages have special constructs to make these shorter and easier. Let's look at list comprehensions next."
   ]
  }
 ],
 "metadata": {
  "kernelspec": {
   "display_name": "Python 3",
   "language": "python",
   "name": "python3"
  },
  "language_info": {
   "codemirror_mode": {
    "name": "ipython",
    "version": 3
   },
   "file_extension": ".py",
   "mimetype": "text/x-python",
   "name": "python",
   "nbconvert_exporter": "python",
   "pygments_lexer": "ipython3",
   "version": "3.11.5"
  }
 },
 "nbformat": 4,
 "nbformat_minor": 5
}
