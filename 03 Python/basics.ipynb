{
 "cells": [
  {
   "cell_type": "code",
   "execution_count": null,
   "id": "6f68c630",
   "metadata": {},
   "outputs": [],
   "source": [
    "a = 2\n",
    "b = -6\n",
    "c = 4\n"
   ]
  },
  {
   "cell_type": "code",
   "execution_count": 12,
   "id": "439e41cd",
   "metadata": {},
   "outputs": [
    {
     "name": "stdout",
     "output_type": "stream",
     "text": [
      "-2.0\n"
     ]
    }
   ],
   "source": [
    "\n",
    "import math\n",
    "d = b ** 2 - 4 * a * c\n",
    "\n",
    "if d > 0:\n",
    "  print((-b + math.sqrt(d)) / (2 * a))\n",
    "  print((-b - math.sqrt(d)) / (2 * a))\n",
    "elif d == 0:\n",
    "  print(-b / (2 * a))\n",
    "else:\n",
    "  print(\"No solutions\")"
   ]
  },
  {
   "cell_type": "code",
   "execution_count": 15,
   "id": "926092d0",
   "metadata": {},
   "outputs": [
    {
     "name": "stdout",
     "output_type": "stream",
     "text": [
      "[2.0, 1.0]\n",
      "[]\n",
      "[-2.0]\n"
     ]
    }
   ],
   "source": [
    "def compute_square_equation_solutions(a, b, c):\n",
    "  d = b ** 2 - 4 * a * c\n",
    "\n",
    "  if d > 0:\n",
    "    return [(-b + math.sqrt(d)) / (2 * a), (-b - math.sqrt(d)) / (2 * a)]\n",
    "  elif d == 0:\n",
    "    return [-b / (2 * a)]\n",
    "  else:\n",
    "    return []\n",
    "\n",
    "print(compute_square_equation_solutions(2, -6, 4))\n",
    "print(compute_square_equation_solutions(2, -6, 8))\n",
    "print(compute_square_equation_solutions(2, 8, 8))\n"
   ]
  }
 ],
 "metadata": {
  "kernelspec": {
   "display_name": "Python 3",
   "language": "python",
   "name": "python3"
  },
  "language_info": {
   "codemirror_mode": {
    "name": "ipython",
    "version": 3
   },
   "file_extension": ".py",
   "mimetype": "text/x-python",
   "name": "python",
   "nbconvert_exporter": "python",
   "pygments_lexer": "ipython3",
   "version": "3.11.5"
  }
 },
 "nbformat": 4,
 "nbformat_minor": 5
}
