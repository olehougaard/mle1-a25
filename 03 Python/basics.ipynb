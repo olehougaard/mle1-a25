{
 "cells": [
  {
   "cell_type": "markdown",
   "id": "bd1904df",
   "metadata": {},
   "source": [
    "# Basics\n",
    "\n",
    "## Variables\n",
    "\n",
    "You know variables from math: x = 4. This means that x is 4 (_shock_). We can say we've _assigned_ the value 4 to x.\n",
    "\n",
    "In math, that means x is 4 forever (at least in the context of this exercise, proof, paper, and so on). In programming, however, variables can _vary_. That means that you can reassign a new value to the variable. We don't always need to do this, but it does come up a lot."
   ]
  },
  {
   "cell_type": "code",
   "execution_count": 2,
   "id": "6f68c630",
   "metadata": {},
   "outputs": [
    {
     "name": "stdout",
     "output_type": "stream",
     "text": [
      "2\n"
     ]
    }
   ],
   "source": [
    "a = 22\n",
    "b = -6\n",
    "c = 4\n",
    "\n",
    "a = -(c + b)\n",
    "print(a)"
   ]
  },
  {
   "cell_type": "markdown",
   "id": "f7ae802b",
   "metadata": {},
   "source": [
    "From now on, a is 2, unless we change it again. The program has no recollection of a ever being 22. That information is lost."
   ]
  },
  {
   "cell_type": "markdown",
   "id": "ac0f309a",
   "metadata": {},
   "source": [
    "## If-statements\n",
    "\n",
    "Straight-line programming can do a limited number of calculations. Often, we run in to exceptional cases, where we need to do different things based on different conditions.\n",
    "\n",
    "We have if-statements for that."
   ]
  },
  {
   "cell_type": "code",
   "execution_count": 3,
   "id": "439e41cd",
   "metadata": {},
   "outputs": [
    {
     "name": "stdout",
     "output_type": "stream",
     "text": [
      "2.0\n",
      "1.0\n"
     ]
    }
   ],
   "source": [
    "\n",
    "import math\n",
    "\n",
    "d = b ** 2 - 4 * a * c\n",
    "\n",
    "if d > 0:\n",
    "  print((-b + math.sqrt(d)) / (2 * a))\n",
    "  print((-b - math.sqrt(d)) / (2 * a))\n",
    "elif d == 0:\n",
    "  print(-b / (2 * a))\n",
    "else:\n",
    "  print(\"No solutions\")"
   ]
  },
  {
   "cell_type": "markdown",
   "id": "0eaf751b",
   "metadata": {},
   "source": [
    "I'm sure you recognize the formula for solving quadratic equations: $ax^2 + bx + c = 0$\n",
    "\n",
    "Were d bigger than 0, we would have run the first two print statements, printing the 2 first solutions.\n",
    "\n",
    "Note that the 2 statements are indented to indicate that they belong to the if-statement above it. If one of the statements had not been indented it would not belong to the if, and would therefore always run.\n",
    "\n",
    "Since d is not bigger than 0, we move on to the next statement - the elif (short for else if). The elif would have been skipped, were d bigger than 0 (that's the else part). As it is, we check the condition `d == 0` (meaning $d = 0$, some programming languages are weird that way). Because it is true, we print the single solution.\n",
    "\n",
    "Now that we have found a true condition, we are done with the entire program. We do not go into the else-section. It only applies if none of the others apply."
   ]
  },
  {
   "cell_type": "markdown",
   "id": "4cc98aab",
   "metadata": {},
   "source": [
    "## Functions\n",
    "\n",
    "You have no doubt noted that we call write the print statement like this: `print(...)`. We say that we _call the print function_. The same thing happened with `math.sqrt(...)` which takes the square root of the number.\n",
    "\n",
    "Functions are small (or large, but I recommend small) helpers that keep us from having to rewrite the same code over and over, as shown below.\n",
    "\n",
    "Most of the functions we'll use are predefined for us, like `print` and `sqrt`.\n",
    "\n",
    "Sometimes the functions we need are hidden in a _library_ like `math`. In that case we have to `import` the library as above.\n",
    "\n",
    "but we can also write our own as shown below. Note the indentation."
   ]
  },
  {
   "cell_type": "code",
   "execution_count": 9,
   "id": "926092d0",
   "metadata": {},
   "outputs": [
    {
     "name": "stdout",
     "output_type": "stream",
     "text": [
      "2.0\n",
      "1.0\n",
      "\n",
      "No solutions\n",
      "\n",
      "-2.0\n"
     ]
    }
   ],
   "source": [
    "def print_quadratic_equation_solutions(a, b, c):\n",
    "  d = b ** 2 - 4 * a * c\n",
    "\n",
    "  if d > 0:\n",
    "    print((-b + math.sqrt(d)) / (2 * a))\n",
    "    print((-b - math.sqrt(d)) / (2 * a))\n",
    "  elif d == 0:\n",
    "    print(-b / (2 * a))\n",
    "  else:\n",
    "    print(\"No solutions\")\n",
    "\n",
    "print_quadratic_equation_solutions(2, -6, 4)\n",
    "print()\n",
    "print_quadratic_equation_solutions(2, -6, 8)\n",
    "print()\n",
    "print_quadratic_equation_solutions(2, 8, 8)\n"
   ]
  },
  {
   "cell_type": "markdown",
   "id": "dab3be7f",
   "metadata": {},
   "source": [
    "Note the variables a, b and c. These are new variables, different from the a, b and c we used before, that only exist within the function. (Formally, we say they belong to the functions _scope_, but that's not important here.)\n",
    "\n",
    "Every time we call the function the variables are again assigned to the values we call the function with. These are called the _arguments_ to the function. This is what allows us to use the function to compute many different solutions for the quadratic equation."
   ]
  },
  {
   "cell_type": "markdown",
   "id": "98a0a57c",
   "metadata": {},
   "source": [
    "### Returning a value\n",
    "\n",
    "There is a fundamental difference in how the functions `print` and `math.sqrt` work. `math.sqrt` is like a mathematical function. It results in a value, but if we don't use that value, nothing further happens. `print` does not result in a value. Instead, it performs an action: prints to the screen. Sometimes, we refer to `print` as a procedure and `math.sqrt` as a pure function.\n",
    "\n",
    "In order to write functions more like `math.sqrt` we need to _return_ a value. We use the keyword `return` followed by an expression to return a value. Make sure you return a value in all branches of an if-statement."
   ]
  },
  {
   "cell_type": "code",
   "execution_count": 10,
   "id": "33897d25",
   "metadata": {},
   "outputs": [
    {
     "name": "stdout",
     "output_type": "stream",
     "text": [
      "[2.0, 1.0]\n",
      "[]\n",
      "[-2.0]\n"
     ]
    }
   ],
   "source": [
    "def compute_quadratic_equation_solutions(a, b, c):\n",
    "  d = b ** 2 - 4 * a * c\n",
    "\n",
    "  if d > 0:\n",
    "    return [(-b + math.sqrt(d)) / (2 * a), (-b - math.sqrt(d)) / (2 * a)]\n",
    "  elif d == 0:\n",
    "    return [-b / (2 * a)]\n",
    "  else:\n",
    "    return []\n",
    "\n",
    "print(compute_quadratic_equation_solutions(2, -6, 4))\n",
    "print(compute_quadratic_equation_solutions(2, -6, 8))\n",
    "print(compute_quadratic_equation_solutions(2, 8, 8))\n"
   ]
  },
  {
   "cell_type": "markdown",
   "id": "e11e5f81",
   "metadata": {},
   "source": [
    "Because a quadratic equation can have more than one solution, I am returning a _list_. More about that in the next part."
   ]
  },
  {
   "cell_type": "markdown",
   "id": "bbabdd25",
   "metadata": {},
   "source": []
  }
 ],
 "metadata": {
  "kernelspec": {
   "display_name": "Python 3",
   "language": "python",
   "name": "python3"
  },
  "language_info": {
   "codemirror_mode": {
    "name": "ipython",
    "version": 3
   },
   "file_extension": ".py",
   "mimetype": "text/x-python",
   "name": "python",
   "nbconvert_exporter": "python",
   "pygments_lexer": "ipython3",
   "version": "3.11.5"
  }
 },
 "nbformat": 4,
 "nbformat_minor": 5
}
