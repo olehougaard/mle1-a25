{
 "cells": [
  {
   "cell_type": "markdown",
   "id": "da498ccc",
   "metadata": {},
   "source": [
    "# Lists\n",
    "\n",
    "Lists can contain many elements. The examples here contain numbers, but they can also contain other lists, texts or anything really.\n",
    "\n",
    "We can create a list by listing the elements enclosed in square brackets, `[]`, as seen below.\n",
    "\n",
    "We access the elements in the list by their _index_. The index, maybe surprisingly, starts at 0, so in a list with three elements, the indeces are 0, 1 and 2. Trying to use an index higher than 2 will result in an error.\n",
    "\n",
    "In order to get to the value of an element, you write the name of the list followed by the index enclosed in square brackets: `numberlist[0], numberlist[1], numberlist[2]`.\n",
    "\n",
    "For convenience, negative numbers wrap around and start from the end, so you can always get the last element with `numberlist[-1]`"
   ]
  },
  {
   "cell_type": "code",
   "execution_count": 2,
   "id": "77bd6b84",
   "metadata": {},
   "outputs": [
    {
     "name": "stdout",
     "output_type": "stream",
     "text": [
      "First element: 1\n",
      "Second element: 2\n",
      "Third element: 4\n",
      "Last element (same as third): 4\n",
      "Length: 3\n"
     ]
    },
    {
     "data": {
      "text/plain": [
       "2"
      ]
     },
     "execution_count": 2,
     "metadata": {},
     "output_type": "execute_result"
    }
   ],
   "source": [
    "numberlist = [1, 2, 4]\n",
    "print(\"First element:\", numberlist[0])\n",
    "print(\"Second element:\", numberlist[1])\n",
    "print(\"Third element:\", numberlist[2])\n",
    "print(\"Last element (same as third):\", numberlist[-1])\n",
    "print(\"Length:\", len(numberlist))"
   ]
  },
  {
   "cell_type": "markdown",
   "id": "6f7d45c3",
   "metadata": {},
   "source": [
    "The most common error with list if _off-by-one errors_, meaning that we forget that we forget that the list indeces start at 0, so we count one too far."
   ]
  },
  {
   "cell_type": "code",
   "execution_count": 4,
   "id": "488550d3",
   "metadata": {},
   "outputs": [
    {
     "name": "stdout",
     "output_type": "stream",
     "text": [
      "First element: 2\n",
      "Second element: 4\n"
     ]
    },
    {
     "ename": "IndexError",
     "evalue": "list index out of range",
     "output_type": "error",
     "traceback": [
      "\u001b[1;31m---------------------------------------------------------------------------\u001b[0m",
      "\u001b[1;31mIndexError\u001b[0m                                Traceback (most recent call last)",
      "Cell \u001b[1;32mIn[4], line 4\u001b[0m\n\u001b[0;32m      2\u001b[0m \u001b[38;5;28mprint\u001b[39m(\u001b[38;5;124m\"\u001b[39m\u001b[38;5;124mFirst element:\u001b[39m\u001b[38;5;124m\"\u001b[39m, numberlist[\u001b[38;5;241m1\u001b[39m])\n\u001b[0;32m      3\u001b[0m \u001b[38;5;28mprint\u001b[39m(\u001b[38;5;124m\"\u001b[39m\u001b[38;5;124mSecond element:\u001b[39m\u001b[38;5;124m\"\u001b[39m, numberlist[\u001b[38;5;241m2\u001b[39m])\n\u001b[1;32m----> 4\u001b[0m \u001b[38;5;28mprint\u001b[39m(\u001b[38;5;124m\"\u001b[39m\u001b[38;5;124mThird element:\u001b[39m\u001b[38;5;124m\"\u001b[39m, \u001b[43mnumberlist\u001b[49m\u001b[43m[\u001b[49m\u001b[38;5;241;43m3\u001b[39;49m\u001b[43m]\u001b[49m)\n\u001b[0;32m      5\u001b[0m \u001b[38;5;28mprint\u001b[39m(\u001b[38;5;124m\"\u001b[39m\u001b[38;5;124mLast element (same as third):\u001b[39m\u001b[38;5;124m\"\u001b[39m, numberlist[\u001b[38;5;241m-\u001b[39m\u001b[38;5;241m1\u001b[39m])\n\u001b[0;32m      6\u001b[0m \u001b[38;5;28mprint\u001b[39m(\u001b[38;5;124m\"\u001b[39m\u001b[38;5;124mLength:\u001b[39m\u001b[38;5;124m\"\u001b[39m, \u001b[38;5;28mlen\u001b[39m(numberlist))\n",
      "\u001b[1;31mIndexError\u001b[0m: list index out of range"
     ]
    }
   ],
   "source": [
    "numberlist = [1, 2, 4]\n",
    "print(\"First element:\", numberlist[1])\n",
    "print(\"Second element:\", numberlist[2])\n",
    "print(\"Third element:\", numberlist[3])\n",
    "print(\"Last element (same as third):\", numberlist[-1])\n",
    "print(\"Length:\", len(numberlist))"
   ]
  },
  {
   "cell_type": "markdown",
   "id": "5c7accc3",
   "metadata": {},
   "source": [
    "If we want to extract more than one element from the list, we can create a _sub-list_ of contiguous elements. The syntax is `numberlist[from:to]` where `from` is the index of the first element in the sub-list, and `to` is the index of the first element _not_ in the sub-list.\n",
    "\n",
    "If `from` is missing the sub-list starts at the beginning of the list. If `to` is missing the sub-list goes to the end of the list."
   ]
  },
  {
   "cell_type": "code",
   "execution_count": 22,
   "id": "24106fbb",
   "metadata": {},
   "outputs": [
    {
     "name": "stdout",
     "output_type": "stream",
     "text": [
      "Except First element: [2, 4, 8]\n",
      "Middle elements: [2]\n",
      "Except Last element: [1, 2, 4]\n",
      "Except Last element (alt): [1, 2, 4]\n",
      "All elements [1, 2, 4, 8]\n"
     ]
    }
   ],
   "source": [
    "numberlist = [1, 2, 4, 8]\n",
    "print(\"Except First element:\", numberlist[1:])\n",
    "print(\"Middle elements:\", numberlist[1:2])\n",
    "print(\"Except Last element:\", numberlist[:3])\n",
    "print(\"Except Last element (alt):\", numberlist[:-1])\n",
    "print(\"All elements\", numberlist[:])"
   ]
  },
  {
   "cell_type": "markdown",
   "id": "b5b326a5",
   "metadata": {},
   "source": [
    "List of numbers come in handy when we want to work with vectors. When we want to work with matrices, we have to deal with the fact that matrices are 2-dimensional. The classic way to deal with this, is to make a list of _rows_ where every row is itself a list of numbers."
   ]
  },
  {
   "cell_type": "code",
   "execution_count": 23,
   "id": "72cde8fb",
   "metadata": {},
   "outputs": [
    {
     "name": "stdout",
     "output_type": "stream",
     "text": [
      "First row:  [1, 2, 3, 4]\n",
      "Third element in first row: 3\n",
      "First column:  ??\n"
     ]
    }
   ],
   "source": [
    "list2D = [\n",
    "  [1, 2, 3, 4],\n",
    "  [1, 2, 4, 8]\n",
    "] # List of lists, really\n",
    "\n",
    "print(\"First row: \", list2D[0])\n",
    "print(\"Third element in first row:\", list2D[0][2])\n",
    "print(\"First column: \", \"??\")"
   ]
  },
  {
   "cell_type": "markdown",
   "id": "de267a50",
   "metadata": {},
   "source": [
    "Note that because `list2D[0]` is itself a list (a row), we can access its elements using an index. This is the reason `list2D[0][2]` gives us an elements.\n",
    "\n",
    "We'll deal with extracting the first column later."
   ]
  },
  {
   "cell_type": "markdown",
   "id": "ebe91d4f",
   "metadata": {},
   "source": [
    "Let's make a function that returns the sum of the numbers from a list."
   ]
  },
  {
   "cell_type": "code",
   "execution_count": 5,
   "id": "bf922be0",
   "metadata": {},
   "outputs": [
    {
     "name": "stdout",
     "output_type": "stream",
     "text": [
      "7\n"
     ]
    }
   ],
   "source": [
    "def sum(list):\n",
    "  return list[0] + list[1] + list[2]\n",
    "\n",
    "print(sum(numberlist))"
   ]
  },
  {
   "cell_type": "markdown",
   "id": "1e6dbaed",
   "metadata": {},
   "source": [
    "This is less than optimal. It only works of lists of length 3. Shorter lists gets us an error message. Longer lists gives us the wrong result.\n",
    "\n",
    "Let's try this:"
   ]
  },
  {
   "cell_type": "code",
   "execution_count": null,
   "id": "9ff3d91a",
   "metadata": {},
   "outputs": [],
   "source": [
    "def sum(list):\n",
    "  if len(list) == 0:\n",
    "    return 0\n",
    "  elif len(list) == 1:\n",
    "    return list[0]\n",
    "  elif len(list) == 2:\n",
    "    return list[0] + list[1]\n",
    "  elif len(list) == 3:\n",
    "    return list[0] + list[1] + list[2]\n",
    "  elif len(list) == 4:\n",
    "    return list[0] + list[1] + list[2] + list[3]\n",
    "  elif len(list) == 5:\n",
    "    return list[0] + list[1] + list[2] + list[3] + list[4]\n"
   ]
  },
  {
   "cell_type": "markdown",
   "id": "6000d1f0",
   "metadata": {},
   "source": [
    "I got tired.\n",
    "\n",
    "This is clearly not the solution. What if the list has 1000 elements? What we need are _loops_. We cover that in the next section."
   ]
  }
 ],
 "metadata": {
  "kernelspec": {
   "display_name": "Python 3",
   "language": "python",
   "name": "python3"
  },
  "language_info": {
   "codemirror_mode": {
    "name": "ipython",
    "version": 3
   },
   "file_extension": ".py",
   "mimetype": "text/x-python",
   "name": "python",
   "nbconvert_exporter": "python",
   "pygments_lexer": "ipython3",
   "version": "3.11.5"
  }
 },
 "nbformat": 4,
 "nbformat_minor": 5
}
