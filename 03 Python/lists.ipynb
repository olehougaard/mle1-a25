{
 "cells": [
  {
   "cell_type": "code",
   "execution_count": 1,
   "id": "77bd6b84",
   "metadata": {},
   "outputs": [
    {
     "name": "stdout",
     "output_type": "stream",
     "text": [
      "First element: 1\n",
      "Second element: 2\n",
      "Third element: 4\n",
      "Last element (same as third): 4\n",
      "Length: 3\n"
     ]
    }
   ],
   "source": [
    "numberlist = [1, 2, 4]\n",
    "print(\"First element:\", numberlist[0])\n",
    "print(\"Second element:\", numberlist[1])\n",
    "print(\"Third element:\", numberlist[2])\n",
    "print(\"Last element (same as third):\", numberlist[-1])\n",
    "print(\"Length:\", len(numberlist))"
   ]
  },
  {
   "cell_type": "code",
   "execution_count": 21,
   "id": "488550d3",
   "metadata": {},
   "outputs": [
    {
     "name": "stdout",
     "output_type": "stream",
     "text": [
      "First element: 1\n",
      "Second element: 2\n"
     ]
    },
    {
     "ename": "IndexError",
     "evalue": "list index out of range",
     "output_type": "error",
     "traceback": [
      "\u001b[1;31m---------------------------------------------------------------------------\u001b[0m",
      "\u001b[1;31mIndexError\u001b[0m                                Traceback (most recent call last)",
      "Cell \u001b[1;32mIn[21], line 4\u001b[0m\n\u001b[0;32m      2\u001b[0m \u001b[38;5;28mprint\u001b[39m(\u001b[38;5;124m\"\u001b[39m\u001b[38;5;124mFirst element:\u001b[39m\u001b[38;5;124m\"\u001b[39m, numberlist[\u001b[38;5;241m0\u001b[39m])\n\u001b[0;32m      3\u001b[0m \u001b[38;5;28mprint\u001b[39m(\u001b[38;5;124m\"\u001b[39m\u001b[38;5;124mSecond element:\u001b[39m\u001b[38;5;124m\"\u001b[39m, numberlist[\u001b[38;5;241m1\u001b[39m])\n\u001b[1;32m----> 4\u001b[0m \u001b[38;5;28mprint\u001b[39m(\u001b[38;5;124m\"\u001b[39m\u001b[38;5;124mThird element:\u001b[39m\u001b[38;5;124m\"\u001b[39m, \u001b[43mnumberlist\u001b[49m\u001b[43m[\u001b[49m\u001b[38;5;241;43m2\u001b[39;49m\u001b[43m]\u001b[49m)\n\u001b[0;32m      5\u001b[0m \u001b[38;5;28mprint\u001b[39m(\u001b[38;5;124m\"\u001b[39m\u001b[38;5;124mLength:\u001b[39m\u001b[38;5;124m\"\u001b[39m, \u001b[38;5;28mlen\u001b[39m(numberlist))\n",
      "\u001b[1;31mIndexError\u001b[0m: list index out of range"
     ]
    }
   ],
   "source": [
    "numberlist = [1, 2]\n",
    "print(\"First element:\", numberlist[0])\n",
    "print(\"Second element:\", numberlist[1])\n",
    "print(\"Third element:\", numberlist[2])\n",
    "print(\"Length:\", len(numberlist))"
   ]
  },
  {
   "cell_type": "code",
   "execution_count": 22,
   "id": "24106fbb",
   "metadata": {},
   "outputs": [
    {
     "name": "stdout",
     "output_type": "stream",
     "text": [
      "Except First element: [2, 4, 8]\n",
      "Middle elements: [2]\n",
      "Except Last element: [1, 2, 4]\n",
      "Except Last element (alt): [1, 2, 4]\n",
      "All elements [1, 2, 4, 8]\n"
     ]
    }
   ],
   "source": [
    "numberlist = [1, 2, 4, 8]\n",
    "print(\"Except First element:\", numberlist[1:])\n",
    "print(\"Middle elements:\", numberlist[1:2])\n",
    "print(\"Except Last element:\", numberlist[:3])\n",
    "print(\"Except Last element (alt):\", numberlist[:-1])\n",
    "print(\"All elements\", numberlist[:])"
   ]
  },
  {
   "cell_type": "code",
   "execution_count": 23,
   "id": "72cde8fb",
   "metadata": {},
   "outputs": [
    {
     "name": "stdout",
     "output_type": "stream",
     "text": [
      "First row:  [1, 2, 3, 4]\n",
      "Third element in first row: 3\n",
      "First column:  ??\n"
     ]
    }
   ],
   "source": [
    "list2D = [\n",
    "  [1, 2, 3, 4],\n",
    "  [1, 2, 4, 8]\n",
    "] # List of lists, really\n",
    "\n",
    "print(\"First row: \", list2D[0])\n",
    "print(\"Third element in first row:\", list2D[0][2])\n",
    "print(\"First column: \", \"??\")"
   ]
  },
  {
   "cell_type": "code",
   "execution_count": 2,
   "id": "989891ac",
   "metadata": {},
   "outputs": [
    {
     "name": "stdout",
     "output_type": "stream",
     "text": [
      "<enumerate object at 0x0000017D4BB796C0>\n",
      "[(0, 1), (1, 2), (2, 4)]\n"
     ]
    }
   ],
   "source": [
    "print(enumerate(numberlist))\n",
    "print(list(enumerate(numberlist)))"
   ]
  }
 ],
 "metadata": {
  "kernelspec": {
   "display_name": "Python 3",
   "language": "python",
   "name": "python3"
  },
  "language_info": {
   "codemirror_mode": {
    "name": "ipython",
    "version": 3
   },
   "file_extension": ".py",
   "mimetype": "text/x-python",
   "name": "python",
   "nbconvert_exporter": "python",
   "pygments_lexer": "ipython3",
   "version": "3.11.5"
  }
 },
 "nbformat": 4,
 "nbformat_minor": 5
}
