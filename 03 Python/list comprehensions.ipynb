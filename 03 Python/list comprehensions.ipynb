{
 "cells": [
  {
   "cell_type": "markdown",
   "id": "e950229c",
   "metadata": {},
   "source": [
    "# List Comprehensions\n",
    "\n",
    "List comprehensions are Python's way to make list manipulations simpler and easier. It's inspired by set expressions like $\\{ x^2 | x \\in L \\land 2 | x\\}$. With list comprehensions that is written like `[x**2 for x in L if x % 2 == 0]`."
   ]
  },
  {
   "cell_type": "markdown",
   "id": "cf81bbb2",
   "metadata": {},
   "source": [
    "The simplest is computing a new value for each value in the original list. The resulting list always has the same length as the original. This is known as _mapping_."
   ]
  },
  {
   "cell_type": "code",
   "execution_count": 3,
   "id": "2d42dd6b",
   "metadata": {},
   "outputs": [
    {
     "data": {
      "text/plain": [
       "[1, 4, 9, 16, 25, 36, 49, 64, 81, 100, 121, 144, 169, 196, 225, 256]"
      ]
     },
     "execution_count": 3,
     "metadata": {},
     "output_type": "execute_result"
    }
   ],
   "source": [
    "numberList = [1, 2, 3, 4, 5, 6, 7, 8, 9, 10, 11, 12, 13, 14, 15, 16]\n",
    "\n",
    "[x ** 2 for x in numberList]"
   ]
  },
  {
   "cell_type": "markdown",
   "id": "0a2dc5a9",
   "metadata": {},
   "source": [
    "Another common pattern is to select some of the elements from the list. This leaves the elements as is. This is known as _filtering_."
   ]
  },
  {
   "cell_type": "code",
   "execution_count": 5,
   "id": "4d2cf3e9",
   "metadata": {},
   "outputs": [
    {
     "data": {
      "text/plain": [
       "[2, 4, 6, 8, 10, 12, 14, 16]"
      ]
     },
     "execution_count": 5,
     "metadata": {},
     "output_type": "execute_result"
    }
   ],
   "source": [
    "[x for x in numberList if x % 2 == 0]"
   ]
  },
  {
   "cell_type": "markdown",
   "id": "3a4456cc",
   "metadata": {},
   "source": [
    "And, of course, we can combine the 2:"
   ]
  },
  {
   "cell_type": "code",
   "execution_count": null,
   "id": "62ba5339",
   "metadata": {},
   "outputs": [
    {
     "data": {
      "text/plain": [
       "[4, 16, 36, 64, 100, 144, 196, 256]"
      ]
     },
     "execution_count": 4,
     "metadata": {},
     "output_type": "execute_result"
    }
   ],
   "source": [
    "[x ** 2 for x in numberList if x % 2 == 0]"
   ]
  },
  {
   "cell_type": "markdown",
   "id": "f76d29a5",
   "metadata": {},
   "source": [
    "Let's revisit our matrix. It's a lot like the above examples."
   ]
  },
  {
   "cell_type": "code",
   "execution_count": 7,
   "id": "8c57b735",
   "metadata": {},
   "outputs": [
    {
     "name": "stdout",
     "output_type": "stream",
     "text": [
      "[1, 1]\n",
      "[2, 2]\n",
      "[3, 4]\n",
      "[4, 8]\n"
     ]
    }
   ],
   "source": [
    "list2D = [\n",
    "  [1, 2, 3, 4],\n",
    "  [1, 2, 4, 8]\n",
    "]\n",
    "\n",
    "def matrix_column(matrix, column_index):\n",
    "  return [row[column_index] for row in matrix]\n",
    "\n",
    "\n",
    "print(matrix_column(list2D, 0))\n",
    "print(matrix_column(list2D, 1))\n",
    "print(matrix_column(list2D, 2))\n",
    "print(matrix_column(list2D, 3))"
   ]
  },
  {
   "cell_type": "markdown",
   "id": "ab2dbb61",
   "metadata": {},
   "source": [
    "There is a simpler way, but that requires `numpy`"
   ]
  }
 ],
 "metadata": {
  "kernelspec": {
   "display_name": "Python 3",
   "language": "python",
   "name": "python3"
  },
  "language_info": {
   "codemirror_mode": {
    "name": "ipython",
    "version": 3
   },
   "file_extension": ".py",
   "mimetype": "text/x-python",
   "name": "python",
   "nbconvert_exporter": "python",
   "pygments_lexer": "ipython3",
   "version": "3.11.5"
  }
 },
 "nbformat": 4,
 "nbformat_minor": 5
}
