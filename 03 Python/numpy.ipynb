{
 "cells": [
  {
   "cell_type": "markdown",
   "id": "0ed5093a",
   "metadata": {},
   "source": [
    "# Numpy\n",
    "\n",
    "We've already seen the `math` library that we used to compute the square root. It has several other built-in functions like logarithms, sine, cosine and so on.\n",
    "\n",
    "`numpy` is an extended library, which offers all `math` has to offer and much more. Here we'll take a look at `numpy`s array functions, since these are the ones we'll be using the most."
   ]
  },
  {
   "cell_type": "markdown",
   "id": "8b409dc8",
   "metadata": {},
   "source": [
    "A numpy array can work both as a list and a vector/matrix. In list form, we'll use it mostly for statistical computations. In array form, we'll use it for linear algebra.\n",
    "\n",
    "You create a numpy array by calling the function `np.array` on a (1D- or 2D-)list."
   ]
  },
  {
   "cell_type": "code",
   "execution_count": 22,
   "id": "7dc93cde",
   "metadata": {},
   "outputs": [],
   "source": [
    "import numpy as np\n",
    "\n",
    "data = np.array([6, 565, 64, 65, 65, 456, 66, 879, 9, -54, -645, 489, -7])\n"
   ]
  },
  {
   "cell_type": "markdown",
   "id": "c6e979e5",
   "metadata": {},
   "source": [
    "`argmax` returns the index of the largest number of the array. This may seem like a strange thing, but if an array holds a list of properties, argmax is the most likely outcome. This is used a lot in classification."
   ]
  },
  {
   "cell_type": "code",
   "execution_count": 37,
   "id": "217aea0b",
   "metadata": {},
   "outputs": [
    {
     "name": "stdout",
     "output_type": "stream",
     "text": [
      "7\n"
     ]
    }
   ],
   "source": [
    "\n",
    "print(data.argmax())"
   ]
  },
  {
   "cell_type": "markdown",
   "id": "4b2dbac0",
   "metadata": {},
   "source": [
    "numpy has built-in functions for computing the mean and median."
   ]
  },
  {
   "cell_type": "code",
   "execution_count": 24,
   "id": "4dfdeb7b",
   "metadata": {},
   "outputs": [
    {
     "name": "stdout",
     "output_type": "stream",
     "text": [
      "150.6153846153846\n",
      "65.0\n"
     ]
    }
   ],
   "source": [
    "print(np.mean(data))\n",
    "print(np.median(data))\n"
   ]
  },
  {
   "cell_type": "markdown",
   "id": "a66d13ec",
   "metadata": {},
   "source": [
    "The mode is a bit trickier. We can use `unique` to get a count of how many we have of each distinct value in the array. Then `argmax` will tell us the index of the most common value. We can use this to look up the mode."
   ]
  },
  {
   "cell_type": "code",
   "execution_count": 25,
   "id": "24d97cf7",
   "metadata": {},
   "outputs": [
    {
     "name": "stdout",
     "output_type": "stream",
     "text": [
      "[-645  -54   -7    6    9   64   65   66  456  489  565  879]\n",
      "[1 1 1 1 1 1 2 1 1 1 1 1]\n",
      "65\n"
     ]
    }
   ],
   "source": [
    "value, count = np.unique(data, return_counts=True, sorted=False)\n",
    "print(value)\n",
    "print(count)\n",
    "\n",
    "mode_index = count.argmax()\n",
    "mode=value[mode_index]\n",
    "print(mode)"
   ]
  },
  {
   "cell_type": "markdown",
   "id": "e856f29f",
   "metadata": {},
   "source": [
    "Variance is easy with the built-in `var` function or a bit harder to do it ourselves."
   ]
  },
  {
   "cell_type": "code",
   "execution_count": 26,
   "id": "3c5ac262",
   "metadata": {},
   "outputs": [
    {
     "name": "stdout",
     "output_type": "stream",
     "text": [
      "129232.85207100592\n",
      "129232.85207100592\n"
     ]
    }
   ],
   "source": [
    "print(np.var(data)) #Variance\n",
    "\n",
    "squares = [(x - np.mean(data)) ** 2 for x in data]\n",
    "print(np.sum(squares) / len(data))"
   ]
  },
  {
   "cell_type": "markdown",
   "id": "1669ffb1",
   "metadata": {},
   "source": [
    "For standard deviation, we can take the square root of the variance. It's easier to just call `std`, though."
   ]
  },
  {
   "cell_type": "code",
   "execution_count": 27,
   "id": "103de190",
   "metadata": {},
   "outputs": [
    {
     "name": "stdout",
     "output_type": "stream",
     "text": [
      "359.4897106608281\n",
      "359.4897106608281\n"
     ]
    }
   ],
   "source": [
    "print(np.sqrt(np.var(data)))\n",
    "print(np.std(data)) # Standard Deviation\n"
   ]
  },
  {
   "cell_type": "markdown",
   "id": "c29ce30b",
   "metadata": {},
   "source": [
    "## Linear algebra\n",
    "\n",
    "A vector in numpy is a one-dimensional array."
   ]
  },
  {
   "cell_type": "code",
   "execution_count": 28,
   "id": "749ba3f1",
   "metadata": {},
   "outputs": [],
   "source": [
    "v1 = np.array([1, -2])\n",
    "v2 = np.array([-4, 2])\n"
   ]
  },
  {
   "cell_type": "markdown",
   "id": "2a3e1f2d",
   "metadata": {},
   "source": [
    "We can compute the scalar product (dot-product) between the vectors."
   ]
  },
  {
   "cell_type": "code",
   "execution_count": 29,
   "id": "fa34e9ca",
   "metadata": {},
   "outputs": [
    {
     "name": "stdout",
     "output_type": "stream",
     "text": [
      "-8\n"
     ]
    }
   ],
   "source": [
    "print(v1.dot(v2))"
   ]
  },
  {
   "cell_type": "markdown",
   "id": "86b23f83",
   "metadata": {},
   "source": [
    "A matrix is a 2-dimensional array."
   ]
  },
  {
   "cell_type": "code",
   "execution_count": 30,
   "id": "68daa326",
   "metadata": {},
   "outputs": [],
   "source": [
    "M = np.array([\n",
    "  [1, 2, 3, 4],\n",
    "  [1, 2, 4, 8]\n",
    "])\n"
   ]
  },
  {
   "cell_type": "markdown",
   "id": "6ff0cb74",
   "metadata": {},
   "source": [
    "We cannot multiply this matrix unto to the vectors because is has the wrong shape (it should have width 2). We can transpose it and multiply it, though."
   ]
  },
  {
   "cell_type": "code",
   "execution_count": 31,
   "id": "7b3a16e4",
   "metadata": {},
   "outputs": [
    {
     "name": "stdout",
     "output_type": "stream",
     "text": [
      "[ -1  -2  -5 -12]\n"
     ]
    }
   ],
   "source": [
    "\n",
    "print(M.T @ v1)"
   ]
  },
  {
   "cell_type": "markdown",
   "id": "22e30dba",
   "metadata": {},
   "source": [
    "We can also see vectors as matrices with width 1."
   ]
  },
  {
   "cell_type": "code",
   "execution_count": 32,
   "id": "1f1a2dca",
   "metadata": {},
   "outputs": [],
   "source": [
    "Mv1 = np.array([\n",
    "  [1],\n",
    "  [-2]\n",
    "])\n",
    "\n",
    "Mv2 = np.array([\n",
    "  [-4],\n",
    "  [2]\n",
    "])"
   ]
  },
  {
   "cell_type": "markdown",
   "id": "d2f8e417",
   "metadata": {},
   "source": [
    "Again we need to transpose the vectors before multiplying them (remember width of first should equal height of second).\n",
    "\n",
    "This is just another way of doing the dot-product. We'll be doing that a lot in this course."
   ]
  },
  {
   "cell_type": "code",
   "execution_count": 33,
   "id": "24432834",
   "metadata": {},
   "outputs": [
    {
     "name": "stdout",
     "output_type": "stream",
     "text": [
      "[[-8]]\n"
     ]
    }
   ],
   "source": [
    "print(Mv1.T @ Mv2)"
   ]
  },
  {
   "cell_type": "markdown",
   "id": "d488504a",
   "metadata": {},
   "source": [
    "This is technically a 1x1 matrix, but we'll treat it as a number in the math."
   ]
  },
  {
   "cell_type": "markdown",
   "id": "c7d3ff07",
   "metadata": {},
   "source": [
    "numpy has a syntax for accessing elements in matrices more easily. (Remember, with lists we had to go `M[1][3]`)"
   ]
  },
  {
   "cell_type": "code",
   "execution_count": 34,
   "id": "e833d365",
   "metadata": {},
   "outputs": [
    {
     "name": "stdout",
     "output_type": "stream",
     "text": [
      "8\n"
     ]
    }
   ],
   "source": [
    "print(M[1, 3])"
   ]
  },
  {
   "cell_type": "markdown",
   "id": "429a26e2",
   "metadata": {},
   "source": [
    "Remember that we could take sub-lists out of lists by writing things like `l[1:3]`? That also works for numpy matrices."
   ]
  },
  {
   "cell_type": "code",
   "execution_count": 35,
   "id": "3f533a30",
   "metadata": {},
   "outputs": [
    {
     "name": "stdout",
     "output_type": "stream",
     "text": [
      "[[3 4]\n",
      " [4 8]]\n"
     ]
    }
   ],
   "source": [
    "print(M[0:2, 2:])"
   ]
  },
  {
   "cell_type": "markdown",
   "id": "67b3dfe3",
   "metadata": {},
   "source": [
    "Remember that leaving one end open means that we go all the way to or from that end.\n",
    "\n",
    "We can use that to easily pick out rows and columns."
   ]
  },
  {
   "cell_type": "code",
   "execution_count": 36,
   "id": "a4789c60",
   "metadata": {},
   "outputs": [
    {
     "name": "stdout",
     "output_type": "stream",
     "text": [
      "[1 2 3 4]\n",
      "[3 4]\n"
     ]
    }
   ],
   "source": [
    "print(M[0, :])\n",
    "print(M[:, 2])"
   ]
  }
 ],
 "metadata": {
  "kernelspec": {
   "display_name": "Conda",
   "language": "python",
   "name": "python3"
  },
  "language_info": {
   "codemirror_mode": {
    "name": "ipython",
    "version": 3
   },
   "file_extension": ".py",
   "mimetype": "text/x-python",
   "name": "python",
   "nbconvert_exporter": "python",
   "pygments_lexer": "ipython3",
   "version": "3.13.7"
  }
 },
 "nbformat": 4,
 "nbformat_minor": 5
}
