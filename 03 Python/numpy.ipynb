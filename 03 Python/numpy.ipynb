{
 "cells": [
  {
   "cell_type": "code",
   "execution_count": 2,
   "id": "7dc93cde",
   "metadata": {},
   "outputs": [
    {
     "data": {
      "text/plain": [
       "np.int64(7)"
      ]
     },
     "execution_count": 2,
     "metadata": {},
     "output_type": "execute_result"
    }
   ],
   "source": [
    "import numpy as np\n",
    "\n",
    "data = np.array([6, 565, 64, 65, 65, 456, 66, 879, 9, -54, -645, 489, -7])\n",
    "\n",
    "data.argmax()"
   ]
  },
  {
   "cell_type": "code",
   "execution_count": 3,
   "id": "4dfdeb7b",
   "metadata": {},
   "outputs": [
    {
     "name": "stdout",
     "output_type": "stream",
     "text": [
      "150.6153846153846\n",
      "65.0\n"
     ]
    }
   ],
   "source": [
    "print(np.mean(data))\n",
    "print(np.median(data))\n"
   ]
  },
  {
   "cell_type": "code",
   "execution_count": 4,
   "id": "24d97cf7",
   "metadata": {},
   "outputs": [
    {
     "name": "stdout",
     "output_type": "stream",
     "text": [
      "[-645  -54   -7    6    9   64   65   66  456  489  565  879]\n",
      "[1 1 1 1 1 1 2 1 1 1 1 1]\n",
      "65\n"
     ]
    }
   ],
   "source": [
    "value, count = np.unique(data, return_counts=True,sorted=False)\n",
    "print(value)\n",
    "print(count)\n",
    "\n",
    "mode_index = count.argmax()\n",
    "mode=value[mode_index]\n",
    "print(mode)"
   ]
  }
 ],
 "metadata": {
  "kernelspec": {
   "display_name": "Python 3",
   "language": "python",
   "name": "python3"
  },
  "language_info": {
   "codemirror_mode": {
    "name": "ipython",
    "version": 3
   },
   "file_extension": ".py",
   "mimetype": "text/x-python",
   "name": "python",
   "nbconvert_exporter": "python",
   "pygments_lexer": "ipython3",
   "version": "3.11.5"
  }
 },
 "nbformat": 4,
 "nbformat_minor": 5
}
